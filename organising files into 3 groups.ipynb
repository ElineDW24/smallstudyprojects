{
 "cells": [
  {
   "cell_type": "code",
   "execution_count": 1,
   "id": "ff14f252",
   "metadata": {
    "scrolled": true
   },
   "outputs": [
    {
     "name": "stdout",
     "output_type": "stream",
     "text": [
      "{'reagan': 1981, 'kennedy': 1961, 'nixon': 1969, 'ford': 1974, 'carter': 1977, 'bush': 1989, 'clinton': 1993, 'lbjohnson': 1963, 'eisenhower': 1953, 'truman': 1945, 'obama': 2009}\n"
     ]
    }
   ],
   "source": [
    "tenurestart = {}\n",
    "\n",
    "tenurestart['reagan'] = 1981\n",
    "tenurestart['kennedy'] = 1961\n",
    "tenurestart['nixon'] = 1969\n",
    "tenurestart['ford'] = 1974\n",
    "tenurestart['carter'] = 1977\n",
    "tenurestart['bush'] = 1989\n",
    "tenurestart['clinton'] = 1993\n",
    "tenurestart['lbjohnson'] = 1963\n",
    "\n",
    "tenurestart['eisenhower'] = 1953\n",
    "tenurestart['truman'] = 1945\n",
    "tenurestart['obama'] = 2009\n",
    "\n",
    "print(tenurestart)"
   ]
  },
  {
   "cell_type": "code",
   "execution_count": 2,
   "id": "2cfecb42",
   "metadata": {},
   "outputs": [],
   "source": [
    "from glob import glob\n",
    "import re"
   ]
  },
  {
   "cell_type": "code",
   "execution_count": 3,
   "id": "d31bbc41",
   "metadata": {},
   "outputs": [
    {
     "name": "stdout",
     "output_type": "stream",
     "text": [
      "15 83 60 68 48\n"
     ]
    }
   ],
   "source": [
    "collection = glob('pres_speech/*/*.txt')\n",
    "pre= []\n",
    "uno=[]\n",
    "due=[]\n",
    "tre=[]\n",
    "quattro= []\n",
    "\n",
    "for speech in collection:\n",
    "    with open(speech, encoding='utf8') as text:\n",
    "        filename = str(speech)\n",
    "        speech = text.read()\n",
    "        namelist = filename.split('\\\\')\n",
    "        name= str(namelist[1])\n",
    "        datespeech= re.findall(r'\\S*,\\s(\\S{4})\">', speech)\n",
    "        try:\n",
    "            date = int(datespeech[0])\n",
    "        except:\n",
    "            continue\n",
    "        try:\n",
    "            yearspeech = date - tenurestart[name]\n",
    "        except:\n",
    "            continue\n",
    "        if yearspeech==-1 or yearspeech==-2:\n",
    "            pre.append(speech)\n",
    "        if yearspeech==0:\n",
    "            uno.append(speech)\n",
    "        if yearspeech==1:\n",
    "            due.append(speech)\n",
    "        if yearspeech==2:\n",
    "            tre.append(speech)\n",
    "        if yearspeech==3:\n",
    "            quattro.append(speech)\n",
    "            \n",
    "print(len(pre), len(uno), len(due), len(tre), len(quattro))"
   ]
  },
  {
   "cell_type": "code",
   "execution_count": 5,
   "id": "6022a360",
   "metadata": {},
   "outputs": [],
   "source": [
    "tenure = uno + due + tre"
   ]
  },
  {
   "cell_type": "code",
   "execution_count": 6,
   "id": "3aaa64a3",
   "metadata": {},
   "outputs": [
    {
     "name": "stdout",
     "output_type": "stream",
     "text": [
      "693970 3908386 1134113\n"
     ]
    }
   ],
   "source": [
    "preelection = str(pre)\n",
    "tenure =str(tenure)\n",
    "reelection = str(quattro)\n",
    "print(len(preelection), len(tenure), len(reelection))\n",
    "\n",
    "with open('pre.txt', 'w') as outfile:\n",
    "    outfile.write(preelection)\n",
    "with open('tenure.txt', 'w') as outfile:\n",
    "    outfile.write(tenure)\n",
    "with open('reelection.txt', 'w') as outfile:\n",
    "    outfile.write(reelection)"
   ]
  }
 ],
 "metadata": {
  "kernelspec": {
   "display_name": "Python 3",
   "language": "python",
   "name": "python3"
  },
  "language_info": {
   "codemirror_mode": {
    "name": "ipython",
    "version": 3
   },
   "file_extension": ".py",
   "mimetype": "text/x-python",
   "name": "python",
   "nbconvert_exporter": "python",
   "pygments_lexer": "ipython3",
   "version": "3.8.8"
  }
 },
 "nbformat": 4,
 "nbformat_minor": 5
}
