{
 "cells": [
  {
   "cell_type": "markdown",
   "id": "c38c5c0f",
   "metadata": {},
   "source": [
    "# Project \"Movies by Woody Allen\" (IMDB database)\n",
    "\n",
    "*By Eline De Witte and Anna Jopp*\n",
    "\n",
    "Woody Allen (born 1935) is one of the best-known contemporary American filmmakers. What sets him apart from his colleagues is, amongst other things, his productivity: His career has been ongoing for over six decades during which he has been involved in more than 70 films – as a director, actor and writer, partly performing two or even three of these roles at once.\n",
    "\n",
    "Which actors has he worked with most frequently in all those years? How well were his movies received by the audience? Due to the size of Allen's oeuvre, it is not easy to answer such questions without the help of technology. We therefore consider getting to know \"The Movies by Woody Allen\" an ideal incentive to delve into the IMDB database, a database compiling information about movies, actors, directors and film ratings until 2008. To do so, we will run a total of ten SQL queries that will be outlined in the following."
   ]
  },
  {
   "cell_type": "markdown",
   "id": "03cd68dc-703c-4e62-a7de-01f7daa9255b",
   "metadata": {},
   "source": [
    "*Instructions: Import the imdb database (as found on Toledo) into phypmyadmin, name the database \"imdb\", then run the following code.*"
   ]
  },
  {
   "cell_type": "code",
   "execution_count": 1,
   "id": "44bc48ed-e124-4aa9-ad7a-7262a2d544b0",
   "metadata": {},
   "outputs": [],
   "source": [
    "import mysql.connector\n",
    "import pandas as pd"
   ]
  },
  {
   "cell_type": "code",
   "execution_count": 2,
   "id": "07c71a8d-4eca-41a8-91eb-4d053beccedb",
   "metadata": {},
   "outputs": [],
   "source": [
    "usrname = \"root\"\n",
    "pwd = \"\"\n",
    "host = \"127.0.0.1\"\n",
    "conn = mysql.connector.connect(host=host, user=usrname, passwd=pwd)\n",
    "cursor = conn.cursor(buffered=True)"
   ]
  },
  {
   "cell_type": "code",
   "execution_count": 3,
   "id": "471eb57a-9906-480e-b7fd-0abee97b4ec6",
   "metadata": {},
   "outputs": [],
   "source": [
    "cursor.execute(\"USE imdb\")"
   ]
  },
  {
   "cell_type": "markdown",
   "id": "13715584",
   "metadata": {},
   "source": [
    "## Query 1: How many movies has Woody Allen directed?"
   ]
  },
  {
   "cell_type": "code",
   "execution_count": 4,
   "id": "29320797",
   "metadata": {},
   "outputs": [],
   "source": [
    "cursor.execute(\n",
    "'''SELECT COUNT(*) AS count_WA FROM movies_directors \n",
    "JOIN movies ON movies_directors.movie_id = movies.id \n",
    "JOIN directors ON movies_directors.director_id = directors.id \n",
    "WHERE directors.first_name='Woody' and directors.last_name='Allen';\n",
    "''')"
   ]
  },
  {
   "cell_type": "code",
   "execution_count": 5,
   "id": "222ce7cb-279b-4c36-be4f-6d8dec39d9a3",
   "metadata": {},
   "outputs": [
    {
     "data": {
      "text/plain": [
       "[(39,)]"
      ]
     },
     "execution_count": 5,
     "metadata": {},
     "output_type": "execute_result"
    }
   ],
   "source": [
    "q1 = cursor.fetchall()\n",
    "q1"
   ]
  },
  {
   "cell_type": "markdown",
   "id": "d32f77d2",
   "metadata": {},
   "source": [
    "The database contains 39 movies that were directed by someone with the first name \"Woody\" and the last name \"Allen\". The database we use has information about movies from 1888 to 2008, which means that Allen’s newest movies are not included. Our further queries will thus answer questions about these 39 movies."
   ]
  },
  {
   "cell_type": "markdown",
   "id": "59ef4ef7",
   "metadata": {},
   "source": [
    "## Query 2: Which average rating did Allen's movies receive on IMDB?"
   ]
  },
  {
   "cell_type": "code",
   "execution_count": 6,
   "id": "f4397893",
   "metadata": {},
   "outputs": [],
   "source": [
    "cursor.execute(\n",
    "'''SELECT AVG(rank) AS avg_rating FROM movies_directors \n",
    "JOIN movies ON movies_directors.movie_id = movies.id \n",
    "JOIN directors ON movies_directors.director_id = directors.id \n",
    "WHERE directors.first_name='Woody' and directors.last_name='Allen';\n",
    "''')"
   ]
  },
  {
   "cell_type": "code",
   "execution_count": 7,
   "id": "7ed32195-35cb-4839-bd66-71d4633d2703",
   "metadata": {},
   "outputs": [
    {
     "data": {
      "text/plain": [
       "[(7.091428579602923,)]"
      ]
     },
     "execution_count": 7,
     "metadata": {},
     "output_type": "execute_result"
    }
   ],
   "source": [
    "q2 = cursor.fetchall()\n",
    "q2"
   ]
  },
  {
   "cell_type": "markdown",
   "id": "f3801fe3",
   "metadata": {},
   "source": [
    "The average rating given to movies directed by Woody Allen on the IMDB website (rating: 1 (worst) to 10 (best)) is 7.09. We also ran queries to know the lowest and highest score his movies received. His lowest rank turns out to be 6.1 and his highest rank is 8.7. We looked for this by changing 'AVG' to 'MIN' and 'MAX', respectively."
   ]
  },
  {
   "cell_type": "markdown",
   "id": "3c0b8eed-7d8f-46b2-b61b-9262c868aced",
   "metadata": {},
   "source": [
    "## Intermediate Query: Joining three tables"
   ]
  },
  {
   "cell_type": "markdown",
   "id": "05120315-6b8a-4180-9a9b-20a3f2c0f829",
   "metadata": {},
   "source": [
    "At this point, we decided to join the tables \"actors\", \"directors\", and \"movies\" permanently in a new table called \"movie_data\" to avoid having to repeat the joining process in every following query. "
   ]
  },
  {
   "cell_type": "code",
   "execution_count": 8,
   "id": "4248df28-f9bd-4f91-8a23-63eedecc4884",
   "metadata": {},
   "outputs": [],
   "source": [
    "cursor.execute(\n",
    "'''CREATE TABLE IF NOT EXISTS movie_data AS SELECT movie_id, director_id, \n",
    "name, rank, year \n",
    "FROM movies_directors \n",
    "JOIN movies ON movies_directors.movie_id = movies.id \n",
    "JOIN directors ON movies_directors.director_id = directors.id \n",
    "WHERE directors.first_name='Woody' and directors.last_name='Allen';\n",
    "''')"
   ]
  },
  {
   "cell_type": "markdown",
   "id": "15d937f9",
   "metadata": {},
   "source": [
    "This creates a new table in the database, only it doesn't exist already. We did this to avoid getting an error message if this block is exectuted more then once. The new table includes all the movies by Woody Allen and allows us to asks questions about his movies without having to join the 3 tables, movies, movie_directors and directors, everytime."
   ]
  },
  {
   "cell_type": "markdown",
   "id": "4290c76f",
   "metadata": {},
   "source": [
    "\n",
    "## Query 3: In which years did Woody Allen direct more than one movie?\n"
   ]
  },
  {
   "cell_type": "code",
   "execution_count": 9,
   "id": "92882359",
   "metadata": {},
   "outputs": [],
   "source": [
    "sql_query_3=(\n",
    "'''SELECT DISTINCT m1.year, m1.name as movie_1, m2.name as movie_2\n",
    "FROM movie_data AS m1 JOIN movie_data AS m2 ON m1.year = m2.year \n",
    "WHERE m1.name <> m2.name\n",
    "GROUP BY m1.year;\n",
    "''')"
   ]
  },
  {
   "cell_type": "code",
   "execution_count": 10,
   "id": "6b233ab0-410d-418a-8363-6552baed70a1",
   "metadata": {},
   "outputs": [
    {
     "data": {
      "text/html": [
       "<style type=\"text/css\">\n",
       "#T_76699_row0_col0, #T_76699_row1_col0, #T_76699_row2_col0, #T_76699_row3_col0, #T_76699_row4_col0, #T_76699_row5_col0 {\n",
       "  background-color: orange;\n",
       "}\n",
       "</style>\n",
       "<table id=\"T_76699_\">\n",
       "  <thead>\n",
       "    <tr>\n",
       "      <th class=\"blank level0\" >&nbsp;</th>\n",
       "      <th class=\"col_heading level0 col0\" >year</th>\n",
       "      <th class=\"col_heading level0 col1\" >movie_1</th>\n",
       "      <th class=\"col_heading level0 col2\" >movie_2</th>\n",
       "    </tr>\n",
       "  </thead>\n",
       "  <tbody>\n",
       "    <tr>\n",
       "      <th id=\"T_76699_level0_row0\" class=\"row_heading level0 row0\" >0</th>\n",
       "      <td id=\"T_76699_row0_col0\" class=\"data row0 col0\" >1971</td>\n",
       "      <td id=\"T_76699_row0_col1\" class=\"data row0 col1\" >Men of Crisis: The Harvey Wallinger Story</td>\n",
       "      <td id=\"T_76699_row0_col2\" class=\"data row0 col2\" >Bananas</td>\n",
       "    </tr>\n",
       "    <tr>\n",
       "      <th id=\"T_76699_level0_row1\" class=\"row_heading level0 row1\" >1</th>\n",
       "      <td id=\"T_76699_row1_col0\" class=\"data row1 col0\" >1987</td>\n",
       "      <td id=\"T_76699_row1_col1\" class=\"data row1 col1\" >September</td>\n",
       "      <td id=\"T_76699_row1_col2\" class=\"data row1 col2\" >Radio Days</td>\n",
       "    </tr>\n",
       "    <tr>\n",
       "      <th id=\"T_76699_level0_row2\" class=\"row_heading level0 row2\" >2</th>\n",
       "      <td id=\"T_76699_row2_col0\" class=\"data row2 col0\" >1989</td>\n",
       "      <td id=\"T_76699_row2_col1\" class=\"data row2 col1\" >New York Stories</td>\n",
       "      <td id=\"T_76699_row2_col2\" class=\"data row2 col2\" >Crimes and Misdemeanors</td>\n",
       "    </tr>\n",
       "    <tr>\n",
       "      <th id=\"T_76699_level0_row3\" class=\"row_heading level0 row3\" >3</th>\n",
       "      <td id=\"T_76699_row3_col0\" class=\"data row3 col0\" >1992</td>\n",
       "      <td id=\"T_76699_row3_col1\" class=\"data row3 col1\" >Shadows and Fog</td>\n",
       "      <td id=\"T_76699_row3_col2\" class=\"data row3 col2\" >Husbands and Wives</td>\n",
       "    </tr>\n",
       "    <tr>\n",
       "      <th id=\"T_76699_level0_row4\" class=\"row_heading level0 row4\" >4</th>\n",
       "      <td id=\"T_76699_row4_col0\" class=\"data row4 col0\" >1994</td>\n",
       "      <td id=\"T_76699_row4_col1\" class=\"data row4 col1\" >Don't Drink the Water</td>\n",
       "      <td id=\"T_76699_row4_col2\" class=\"data row4 col2\" >Bullets Over Broadway</td>\n",
       "    </tr>\n",
       "    <tr>\n",
       "      <th id=\"T_76699_level0_row5\" class=\"row_heading level0 row5\" >5</th>\n",
       "      <td id=\"T_76699_row5_col0\" class=\"data row5 col0\" >2001</td>\n",
       "      <td id=\"T_76699_row5_col1\" class=\"data row5 col1\" >Sounds From a Town I Love</td>\n",
       "      <td id=\"T_76699_row5_col2\" class=\"data row5 col2\" >Curse of the Jade Scorpion, The</td>\n",
       "    </tr>\n",
       "  </tbody>\n",
       "</table>\n"
      ],
      "text/plain": [
       "<pandas.io.formats.style.Styler at 0x227bfa26970>"
      ]
     },
     "execution_count": 10,
     "metadata": {},
     "output_type": "execute_result"
    }
   ],
   "source": [
    "df_3 = pd.read_sql(sql_query_3, conn)\n",
    "df_3.style.set_properties(**{'background-color': 'orange'}, subset=['year'])"
   ]
  },
  {
   "cell_type": "markdown",
   "id": "6ac1c808",
   "metadata": {},
   "source": [
    "In this table we see that, in six years (highlighted in orange), Woody Allen has directed more than one movie per year. Often, Woody Allen's creative peak is said to have been between 1977, when *Annie Hall* was released in the theaters, to 1987. Based on this result, we could argue that his most fruitful decade was later, namely from 1989 to 1999. During that time he managed to produce multiple movies in one year three times!"
   ]
  },
  {
   "cell_type": "markdown",
   "id": "a5bdd13e",
   "metadata": {},
   "source": [
    "## Query 4: What are his best rated movies?"
   ]
  },
  {
   "cell_type": "code",
   "execution_count": 11,
   "id": "351c2621",
   "metadata": {},
   "outputs": [],
   "source": [
    "sql_query_4=(\n",
    "'''SELECT * \n",
    "FROM movie_data\n",
    "ORDER BY rank DESC\n",
    "LIMIT 5;\n",
    "''')"
   ]
  },
  {
   "cell_type": "code",
   "execution_count": 12,
   "id": "ccdf1601",
   "metadata": {
    "scrolled": true
   },
   "outputs": [
    {
     "data": {
      "text/html": [
       "<div>\n",
       "<style scoped>\n",
       "    .dataframe tbody tr th:only-of-type {\n",
       "        vertical-align: middle;\n",
       "    }\n",
       "\n",
       "    .dataframe tbody tr th {\n",
       "        vertical-align: top;\n",
       "    }\n",
       "\n",
       "    .dataframe thead th {\n",
       "        text-align: right;\n",
       "    }\n",
       "</style>\n",
       "<table border=\"1\" class=\"dataframe\">\n",
       "  <thead>\n",
       "    <tr style=\"text-align: right;\">\n",
       "      <th></th>\n",
       "      <th>movie_id</th>\n",
       "      <th>director_id</th>\n",
       "      <th>name</th>\n",
       "      <th>rank</th>\n",
       "      <th>year</th>\n",
       "    </tr>\n",
       "  </thead>\n",
       "  <tbody>\n",
       "    <tr>\n",
       "      <th>0</th>\n",
       "      <td>210269</td>\n",
       "      <td>1364</td>\n",
       "      <td>Melinda and Melinda</td>\n",
       "      <td>8.7</td>\n",
       "      <td>2004</td>\n",
       "    </tr>\n",
       "    <tr>\n",
       "      <th>1</th>\n",
       "      <td>17760</td>\n",
       "      <td>1364</td>\n",
       "      <td>Annie Hall</td>\n",
       "      <td>8.3</td>\n",
       "      <td>1977</td>\n",
       "    </tr>\n",
       "    <tr>\n",
       "      <th>2</th>\n",
       "      <td>204163</td>\n",
       "      <td>1364</td>\n",
       "      <td>Manhattan</td>\n",
       "      <td>8.2</td>\n",
       "      <td>1979</td>\n",
       "    </tr>\n",
       "    <tr>\n",
       "      <th>3</th>\n",
       "      <td>73303</td>\n",
       "      <td>1364</td>\n",
       "      <td>Crimes and Misdemeanors</td>\n",
       "      <td>7.9</td>\n",
       "      <td>1989</td>\n",
       "    </tr>\n",
       "    <tr>\n",
       "      <th>4</th>\n",
       "      <td>138444</td>\n",
       "      <td>1364</td>\n",
       "      <td>Hannah and Her Sisters</td>\n",
       "      <td>7.8</td>\n",
       "      <td>1986</td>\n",
       "    </tr>\n",
       "  </tbody>\n",
       "</table>\n",
       "</div>"
      ],
      "text/plain": [
       "   movie_id  director_id                     name  rank  year\n",
       "0    210269         1364      Melinda and Melinda   8.7  2004\n",
       "1     17760         1364               Annie Hall   8.3  1977\n",
       "2    204163         1364                Manhattan   8.2  1979\n",
       "3     73303         1364  Crimes and Misdemeanors   7.9  1989\n",
       "4    138444         1364   Hannah and Her Sisters   7.8  1986"
      ]
     },
     "execution_count": 12,
     "metadata": {},
     "output_type": "execute_result"
    }
   ],
   "source": [
    "df_4 = pd.read_sql(sql_query_4, conn)\n",
    "df_4"
   ]
  },
  {
   "cell_type": "markdown",
   "id": "cc1ba756",
   "metadata": {},
   "source": [
    "Woody Allen has directed several films that rank very highly. His highest rated film is *Melinda and Melinda*. The other four movies all fall into his creative period (more or less 1977-1989). Out of curiosity, we ran this query again with a limit of 10. We found out that his second to 8th best ranked movies where all created in the (long) decade after the release of *Annie Hall*. The 6th best ranked movie is *Love and Death* (1975) with a score of 7.6. On the 7th place is *Zelig* with a rank of 7.6. *The Purple Rose of Cairo* is on 8th place, with a rank of 7.5. Movie 9 (*Bullets Over Broadway*) was made in 1994 and broke the streak. However, the 10th movie (*Radio Days*, 1987) was made during his creative decade."
   ]
  },
  {
   "cell_type": "markdown",
   "id": "f704fb97",
   "metadata": {},
   "source": [
    "## Query 5: Which genre do most of his movies belong to?"
   ]
  },
  {
   "cell_type": "code",
   "execution_count": 13,
   "id": "9793c76b",
   "metadata": {},
   "outputs": [],
   "source": [
    "sql_query_5=(\n",
    "'''SELECT DISTINCT directors_genres.genre, directors_genres.prob\n",
    "FROM movie_data JOIN directors_genres ON movie_data.director_id=directors_genres.director_id\n",
    "ORDER BY directors_genres.prob DESC;\n",
    "''')"
   ]
  },
  {
   "cell_type": "code",
   "execution_count": 14,
   "id": "43d47bc2",
   "metadata": {
    "tags": []
   },
   "outputs": [
    {
     "data": {
      "text/html": [
       "<div>\n",
       "<style scoped>\n",
       "    .dataframe tbody tr th:only-of-type {\n",
       "        vertical-align: middle;\n",
       "    }\n",
       "\n",
       "    .dataframe tbody tr th {\n",
       "        vertical-align: top;\n",
       "    }\n",
       "\n",
       "    .dataframe thead th {\n",
       "        text-align: right;\n",
       "    }\n",
       "</style>\n",
       "<table border=\"1\" class=\"dataframe\">\n",
       "  <thead>\n",
       "    <tr style=\"text-align: right;\">\n",
       "      <th></th>\n",
       "      <th>genre</th>\n",
       "      <th>prob</th>\n",
       "    </tr>\n",
       "  </thead>\n",
       "  <tbody>\n",
       "    <tr>\n",
       "      <th>0</th>\n",
       "      <td>Comedy</td>\n",
       "      <td>0.923077</td>\n",
       "    </tr>\n",
       "    <tr>\n",
       "      <th>1</th>\n",
       "      <td>Drama</td>\n",
       "      <td>0.384615</td>\n",
       "    </tr>\n",
       "    <tr>\n",
       "      <th>2</th>\n",
       "      <td>Romance</td>\n",
       "      <td>0.256410</td>\n",
       "    </tr>\n",
       "    <tr>\n",
       "      <th>3</th>\n",
       "      <td>Crime</td>\n",
       "      <td>0.153846</td>\n",
       "    </tr>\n",
       "    <tr>\n",
       "      <th>4</th>\n",
       "      <td>Mystery</td>\n",
       "      <td>0.102564</td>\n",
       "    </tr>\n",
       "    <tr>\n",
       "      <th>5</th>\n",
       "      <td>Thriller</td>\n",
       "      <td>0.051282</td>\n",
       "    </tr>\n",
       "    <tr>\n",
       "      <th>6</th>\n",
       "      <td>Fantasy</td>\n",
       "      <td>0.051282</td>\n",
       "    </tr>\n",
       "    <tr>\n",
       "      <th>7</th>\n",
       "      <td>Short</td>\n",
       "      <td>0.051282</td>\n",
       "    </tr>\n",
       "    <tr>\n",
       "      <th>8</th>\n",
       "      <td>Sci-Fi</td>\n",
       "      <td>0.025641</td>\n",
       "    </tr>\n",
       "    <tr>\n",
       "      <th>9</th>\n",
       "      <td>Musical</td>\n",
       "      <td>0.025641</td>\n",
       "    </tr>\n",
       "    <tr>\n",
       "      <th>10</th>\n",
       "      <td>Adventure</td>\n",
       "      <td>0.025641</td>\n",
       "    </tr>\n",
       "    <tr>\n",
       "      <th>11</th>\n",
       "      <td>Music</td>\n",
       "      <td>0.025641</td>\n",
       "    </tr>\n",
       "    <tr>\n",
       "      <th>12</th>\n",
       "      <td>War</td>\n",
       "      <td>0.025641</td>\n",
       "    </tr>\n",
       "  </tbody>\n",
       "</table>\n",
       "</div>"
      ],
      "text/plain": [
       "        genre      prob\n",
       "0      Comedy  0.923077\n",
       "1       Drama  0.384615\n",
       "2     Romance  0.256410\n",
       "3       Crime  0.153846\n",
       "4     Mystery  0.102564\n",
       "5    Thriller  0.051282\n",
       "6     Fantasy  0.051282\n",
       "7       Short  0.051282\n",
       "8      Sci-Fi  0.025641\n",
       "9     Musical  0.025641\n",
       "10  Adventure  0.025641\n",
       "11      Music  0.025641\n",
       "12        War  0.025641"
      ]
     },
     "execution_count": 14,
     "metadata": {},
     "output_type": "execute_result"
    }
   ],
   "source": [
    "df_5 = pd.read_sql(sql_query_5, conn)\n",
    "df_5"
   ]
  },
  {
   "cell_type": "code",
   "execution_count": 27,
   "id": "966db2ad-5bb5-4ecb-8463-8d921b104f65",
   "metadata": {},
   "outputs": [
    {
     "data": {
      "image/png": "[encoded data removed]",
      "text/plain": [
       "<Figure size 432x288 with 1 Axes>"
      ]
     },
     "metadata": {
      "needs_background": "light"
     },
     "output_type": "display_data"
    }
   ],
   "source": [
    "df_5.plot.bar(title='Woody Allen\\'s movies: Probability that movie falls into certain genre', \n",
    "              x='genre', y='prob', legend=None, color='purple');"
   ]
  },
  {
   "cell_type": "markdown",
   "id": "1c970e9d",
   "metadata": {},
   "source": [
    "This output shows that Woody Allen's movies fall into 13 genres. For reference, there are 21 different genres in the database (found by the query: SELECT DISTINCT genres FROM director_genres). This output shows that Woody Allen's movies have great variety. However, his movies have a probability of 0.92 to fall into the category 'Comedy'. After that, a good portion of his movies also falls into the categories 'Drama' and 'Romance'. That aligns with what is known about him: he also worked as a comedian and his best ranked movies are all romantic comedies with a lot of drama."
   ]
  },
  {
   "cell_type": "markdown",
   "id": "1a10f6ce-6e7f-4cbd-88b7-d78599ae71cb",
   "metadata": {},
   "source": [
    "## Query 6: Who are the most productive comedy-directors in the database?"
   ]
  },
  {
   "cell_type": "code",
   "execution_count": 28,
   "id": "37554e83-d0be-45d0-9457-8bad4e551766",
   "metadata": {},
   "outputs": [],
   "source": [
    "sql_query_6=(\n",
    "'''SELECT first_name, last_name, CONCAT(first_name, ' ', last_name) AS director_name, \n",
    "COUNT(director_id) as directorcount\n",
    "FROM movies_directors JOIN directors ON movies_directors.director_id = directors.id \n",
    "    JOIN movies ON movies_directors.movie_id = movies.id \n",
    "WHERE director_id IN\n",
    "    ( SELECT director_id FROM directors_genres WHERE genre = 'Comedy' AND prob > 0.80)\n",
    "GROUP BY director_id\n",
    "ORDER BY directorcount DESC\n",
    "LIMIT 20; \n",
    "''')"
   ]
  },
  {
   "cell_type": "code",
   "execution_count": 29,
   "id": "c0e620ff-d8bb-4cf4-b905-0ab1262acef4",
   "metadata": {},
   "outputs": [
    {
     "data": {
      "image/png": "[encoded data removed]",
      "text/plain": [
       "<Figure size 432x288 with 1 Axes>"
      ]
     },
     "metadata": {
      "needs_background": "light"
     },
     "output_type": "display_data"
    }
   ],
   "source": [
    "df_6 = pd.read_sql(sql_query_6, conn)\n",
    "df_6.plot(title='Most productive comedy directors', x='director_name', y='directorcount', \n",
    "          kind=\"bar\", xlabel='', legend=None, color='Orange');"
   ]
  },
  {
   "cell_type": "markdown",
   "id": "003ee024-22e6-4798-81cc-588658729069",
   "metadata": {},
   "source": [
    "The WHERE-line returns 8249 director IDs that have a probability of at least 90% to make comedy movies. Out of these directors, the result shows the 20 most productive ones, measured based on how many films they made. Even though we think it is impressive that Woody Allen directed more or less a movie per year in addition to acting in and writing others, there are clearly directors who made more movies. Mack Sennett for instance made 330 movies in his career. He was known as the 'King of Comedy' and lived from 1880-1960."
   ]
  },
  {
   "cell_type": "markdown",
   "id": "4cb92168",
   "metadata": {},
   "source": [
    "## Query 7: Which actors have played in at least six Woody Allen movies?"
   ]
  },
  {
   "cell_type": "code",
   "execution_count": 34,
   "id": "4deb4789",
   "metadata": {},
   "outputs": [],
   "source": [
    "sql_query_7=(\n",
    "'''SELECT CONCAT (actors.first_name, ' ', actors.last_name) AS actor_name, id, COUNT(id) AS actorcount \n",
    "FROM roles \n",
    "JOIN actors ON roles.actor_id= actors.id \n",
    "JOIN movie_data ON roles.movie_id= movie_data.movie_id\n",
    "GROUP BY last_name, first_name \n",
    "HAVING actorcount>5\n",
    "ORDER BY actorcount DESC;\n",
    "''')"
   ]
  },
  {
   "cell_type": "code",
   "execution_count": 30,
   "id": "aff25a37-4fa6-4285-9fa4-d2124345b4ac",
   "metadata": {},
   "outputs": [
    {
     "data": {
      "image/png": "[encoded data removed]",
      "text/plain": [
       "<Figure size 432x288 with 1 Axes>"
      ]
     },
     "metadata": {
      "needs_background": "light"
     },
     "output_type": "display_data"
    }
   ],
   "source": [
    "df_7 = pd.read_sql(sql_query_7, conn)\n",
    "df_7.plot(title='Actors that played in at least six Woody Allen movies', \n",
    "          x='actor_name', y='actorcount', kind=\"bar\", xlabel='', legend=None, color='darkgreen');"
   ]
  },
  {
   "cell_type": "markdown",
   "id": "5ff382b8",
   "metadata": {},
   "source": [
    "These 16 actors are the people Woody Allen has most frequently worked with as a director. In first place, we find - no surprise - Allen himself. He played as an actor in 30 of the 39 movies in the database that he also directed. Most of the names at the top are part of Woody Allen's social circle besides work as well. He had, for example, a brief relationship with Diane Keaton and Mia Farrow later was his partner for twelve years."
   ]
  },
  {
   "cell_type": "markdown",
   "id": "0080e0b6",
   "metadata": {},
   "source": [
    "## Query 8: Let's pick one of these actors: Diane Keaton. Did she play in more movies directed by Allen than by other directors?"
   ]
  },
  {
   "cell_type": "code",
   "execution_count": 31,
   "id": "fbc4978c",
   "metadata": {},
   "outputs": [],
   "source": [
    "sql_query_8=(\n",
    "'''SELECT a.first_name, a.last_name, CONCAT(d.first_name, ' ', d.last_name) AS director_name, \n",
    "count(director_id) as director_count \n",
    "FROM actors AS a \n",
    "JOIN roles as r on r.actor_id = a.id \n",
    "JOIN movies AS m ON r.movie_id=m.id \n",
    "JOIN movies_directors as md ON m.id=md.movie_id \n",
    "JOIN directors as d ON md.director_id=d.id \n",
    "WHERE a.first_name=\"Diane\" and a.last_name=\"Keaton\" \n",
    "GROUP BY director_id\n",
    "HAVING director_count>1;\n",
    "''')"
   ]
  },
  {
   "cell_type": "code",
   "execution_count": 32,
   "id": "92f105f5-62b5-469c-854d-496b1ac57340",
   "metadata": {},
   "outputs": [
    {
     "data": {
      "image/png": "[encoded data removed]",
      "text/plain": [
       "<Figure size 432x288 with 1 Axes>"
      ]
     },
     "metadata": {
      "needs_background": "light"
     },
     "output_type": "display_data"
    }
   ],
   "source": [
    "df_8 = pd.read_sql(sql_query_8, conn)\n",
    "df_8.plot(title='Directors Diane Keaton worked with more than once', x='director_name', \n",
    "          kind=\"barh\", xlabel='', legend=None, color='darkred');"
   ]
  },
  {
   "cell_type": "markdown",
   "id": "a14ff0c7",
   "metadata": {},
   "source": [
    "Our assumption was right: Diane Keaton played in eight movies directed by Woody Allen - more than she worked with any other director. We did leave out the 39 directors that Keaton only worked with once, as this would make the result unnecessarily long. We did this by adding 'having director_count>1' to our query."
   ]
  },
  {
   "cell_type": "markdown",
   "id": "fe7da68c",
   "metadata": {},
   "source": [
    "## Query 9: Has Woody Allen worked with more male or more female actors?"
   ]
  },
  {
   "cell_type": "code",
   "execution_count": 22,
   "id": "c80cf865",
   "metadata": {},
   "outputs": [],
   "source": [
    "sql_query_9=(\n",
    "'''SELECT DISTINCT gender, COUNT(gender)\n",
    "FROM actors \n",
    "JOIN roles ON actors.id = roles.actor_id\n",
    "JOIN movie_data ON roles.movie_id = movie_data.movie_id\n",
    "GROUP BY gender;\n",
    "''')"
   ]
  },
  {
   "cell_type": "code",
   "execution_count": 23,
   "id": "4a8928c8-48c1-4531-b4c8-14a19998693c",
   "metadata": {},
   "outputs": [],
   "source": [
    "df_9 = pd.read_sql(sql_query_9, conn)"
   ]
  },
  {
   "cell_type": "code",
   "execution_count": 33,
   "id": "15a6b26e-4831-4891-ab7f-874c52cdd090",
   "metadata": {},
   "outputs": [
    {
     "data": {
      "image/png": "[encoded data removed]",
      "text/plain": [
       "<Figure size 432x288 with 1 Axes>"
      ]
     },
     "metadata": {},
     "output_type": "display_data"
    }
   ],
   "source": [
    "df_9.plot(title='Gender distribution in movies by Woody Allen', kind='pie', y='COUNT(gender)', \n",
    "          labels=df_9['gender'], legend=None, ylabel='', autopct='%1.0f%%');"
   ]
  },
  {
   "cell_type": "markdown",
   "id": "24f31a1a",
   "metadata": {},
   "source": [
    "Even though Diane Keaton and other female actors famously appeared in movies directed by Woody Allen, the output of this query shows that almost two thirds of the actors in his movies are male. An actor is counted multiple times if they appear in multiple movies. Diane Keaten for example adds 8 'points' to the female count, because she worked with Woody Allen eight times."
   ]
  },
  {
   "cell_type": "markdown",
   "id": "7584a014",
   "metadata": {},
   "source": [
    "## Query 10: Are there movies *about* Woody Allen?"
   ]
  },
  {
   "cell_type": "code",
   "execution_count": 25,
   "id": "4c70ed3b",
   "metadata": {},
   "outputs": [],
   "source": [
    "sql_query_10=(\n",
    "\"\"\"SELECT year, movies.name, first_name, last_name\n",
    "FROM movies_directors JOIN directors ON movies_directors.director_id = directors.id \n",
    "JOIN movies ON movies_directors.movie_id = movies.id \n",
    "WHERE name LIKE '%WOODY%' AND name LIKE '%ALLEN%'; ;\"\"\")"
   ]
  },
  {
   "cell_type": "code",
   "execution_count": 26,
   "id": "078a46f9",
   "metadata": {},
   "outputs": [
    {
     "data": {
      "text/html": [
       "<div>\n",
       "<style scoped>\n",
       "    .dataframe tbody tr th:only-of-type {\n",
       "        vertical-align: middle;\n",
       "    }\n",
       "\n",
       "    .dataframe tbody tr th {\n",
       "        vertical-align: top;\n",
       "    }\n",
       "\n",
       "    .dataframe thead th {\n",
       "        text-align: right;\n",
       "    }\n",
       "</style>\n",
       "<table border=\"1\" class=\"dataframe\">\n",
       "  <thead>\n",
       "    <tr style=\"text-align: right;\">\n",
       "      <th></th>\n",
       "      <th>year</th>\n",
       "      <th>name</th>\n",
       "      <th>first_name</th>\n",
       "      <th>last_name</th>\n",
       "    </tr>\n",
       "  </thead>\n",
       "  <tbody>\n",
       "    <tr>\n",
       "      <th>0</th>\n",
       "      <td>1982</td>\n",
       "      <td>Oeuvre et la vie de Woody Allen, L'</td>\n",
       "      <td>Riccardo</td>\n",
       "      <td>Aragno</td>\n",
       "    </tr>\n",
       "    <tr>\n",
       "      <th>1</th>\n",
       "      <td>2005</td>\n",
       "      <td>Woody Allen Summer Project</td>\n",
       "      <td>Woody</td>\n",
       "      <td>Allen</td>\n",
       "    </tr>\n",
       "    <tr>\n",
       "      <th>2</th>\n",
       "      <td>2000</td>\n",
       "      <td>Woody und Mr. Allen</td>\n",
       "      <td>Manfred</td>\n",
       "      <td>Behrens</td>\n",
       "    </tr>\n",
       "    <tr>\n",
       "      <th>3</th>\n",
       "      <td>1965</td>\n",
       "      <td>Woody Allen</td>\n",
       "      <td>Philip</td>\n",
       "      <td>Casson</td>\n",
       "    </tr>\n",
       "    <tr>\n",
       "      <th>4</th>\n",
       "      <td>1980</td>\n",
       "      <td>To Woody Allen from Europe with Love</td>\n",
       "      <td>André</td>\n",
       "      <td>Delvaux</td>\n",
       "    </tr>\n",
       "    <tr>\n",
       "      <th>5</th>\n",
       "      <td>1979</td>\n",
       "      <td>Question de temps: Une heure avec Woody Allen</td>\n",
       "      <td>Jacques</td>\n",
       "      <td>Meny</td>\n",
       "    </tr>\n",
       "    <tr>\n",
       "      <th>6</th>\n",
       "      <td>2000</td>\n",
       "      <td>Woody Allen: la vida y nada ms</td>\n",
       "      <td>Jorge</td>\n",
       "      <td>Ortiz de Landázuri Yzarduy</td>\n",
       "    </tr>\n",
       "    <tr>\n",
       "      <th>7</th>\n",
       "      <td>2000</td>\n",
       "      <td>Woody Allen: la vida y nada ms</td>\n",
       "      <td>Pite</td>\n",
       "      <td>Piñas</td>\n",
       "    </tr>\n",
       "    <tr>\n",
       "      <th>8</th>\n",
       "      <td>2002</td>\n",
       "      <td>Castaway: A Woody Allen Film</td>\n",
       "      <td>Corky</td>\n",
       "      <td>Quackenbush</td>\n",
       "    </tr>\n",
       "    <tr>\n",
       "      <th>9</th>\n",
       "      <td>2004</td>\n",
       "      <td>Waiting for Woody Allen</td>\n",
       "      <td>Michael</td>\n",
       "      <td>Rainin</td>\n",
       "    </tr>\n",
       "    <tr>\n",
       "      <th>10</th>\n",
       "      <td>2002</td>\n",
       "      <td>Woody Allen: A Life in Film</td>\n",
       "      <td>Richard</td>\n",
       "      <td>Schickel</td>\n",
       "    </tr>\n",
       "  </tbody>\n",
       "</table>\n",
       "</div>"
      ],
      "text/plain": [
       "    year                                           name first_name  \\\n",
       "0   1982            Oeuvre et la vie de Woody Allen, L'   Riccardo   \n",
       "1   2005                     Woody Allen Summer Project      Woody   \n",
       "2   2000                            Woody und Mr. Allen    Manfred   \n",
       "3   1965                                    Woody Allen     Philip   \n",
       "4   1980           To Woody Allen from Europe with Love      André   \n",
       "5   1979  Question de temps: Une heure avec Woody Allen    Jacques   \n",
       "6   2000                 Woody Allen: la vida y nada ms      Jorge   \n",
       "7   2000                 Woody Allen: la vida y nada ms       Pite   \n",
       "8   2002                   Castaway: A Woody Allen Film      Corky   \n",
       "9   2004                        Waiting for Woody Allen    Michael   \n",
       "10  2002                    Woody Allen: A Life in Film    Richard   \n",
       "\n",
       "                     last_name  \n",
       "0                       Aragno  \n",
       "1                        Allen  \n",
       "2                      Behrens  \n",
       "3                       Casson  \n",
       "4                      Delvaux  \n",
       "5                         Meny  \n",
       "6   Ortiz de Landázuri Yzarduy  \n",
       "7                        Piñas  \n",
       "8                  Quackenbush  \n",
       "9                       Rainin  \n",
       "10                    Schickel  "
      ]
     },
     "execution_count": 26,
     "metadata": {},
     "output_type": "execute_result"
    }
   ],
   "source": [
    "df_10 = pd.read_sql(sql_query_10, conn)\n",
    "df_10"
   ]
  },
  {
   "cell_type": "markdown",
   "id": "d492ece0",
   "metadata": {},
   "source": [
    "There are ten movies that have the words 'Woody' and 'Allen' in the title. Nine of those movies are actually about Woody Allen. The 10th movie is not about Woody Allen. 'Woody Allen Summer Project', is the working title of a movie made by Woody Allen himself. He later gave it an official title, namely 'Match Point', but the 2005 movie does not appear with that name in the database."
   ]
  }
 ],
 "metadata": {
  "kernelspec": {
   "display_name": "Python 3 (ipykernel)",
   "language": "python",
   "name": "python3"
  },
  "language_info": {
   "codemirror_mode": {
    "name": "ipython",
    "version": 3
   },
   "file_extension": ".py",
   "mimetype": "text/x-python",
   "name": "python",
   "nbconvert_exporter": "python",
   "pygments_lexer": "ipython3",
   "version": "3.8.11"
  }
 },
 "nbformat": 4,
 "nbformat_minor": 5
}
